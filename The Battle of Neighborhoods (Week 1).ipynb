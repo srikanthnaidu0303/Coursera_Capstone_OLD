{
    "nbformat_minor": 1, 
    "cells": [
        {
            "source": "# Background and Description of the Problem", 
            "cell_type": "markdown", 
            "metadata": {
                "collapsed": true
            }
        }, 
        {
            "source": "#### To Identify best location to setup a sports academy in Toronto so that sports authorities can choose the right location for the setup the sports academies.", 
            "cell_type": "markdown", 
            "metadata": {}
        }, 
        {
            "source": "#### Evenly distributed Sports facilities will drive interest in more people taking up the sports career. This will ensure residents are more active physically and reduce number of people require medical attention. ", 
            "cell_type": "markdown", 
            "metadata": {}
        }, 
        {
            "source": "#### Healthy population always helps nations to growth faster.", 
            "cell_type": "markdown", 
            "metadata": {}
        }, 
        {
            "source": "# Description of the data and its usage to solve the given problem stated above", 
            "cell_type": "markdown", 
            "metadata": {}
        }, 
        {
            "source": "##### a. Toronto Neighnourhoods data was taken from https://en.wikipedia.org/wiki/List_of_postal_codes_of_Canada:_M wikipedia page. BeautifulSoup package has been used to scrape the data from the page", 
            "cell_type": "markdown", 
            "metadata": {}
        }, 
        {
            "source": "##### b. Geospatial data from the following source has been used to get the latitude and longitude of each neighbourhood https://cocl.us/Geospatial_data", 
            "cell_type": "markdown", 
            "metadata": {}
        }, 
        {
            "source": "##### c. Using latitude and longitude information, running a query to foursquare API to get the required data of the places and venues ", 
            "cell_type": "markdown", 
            "metadata": {}
        }, 
        {
            "source": "##### d. Then plotting the data collected from the previous points to a map in order to provide a better visual representatiom of the recommendation", 
            "cell_type": "markdown", 
            "metadata": {}
        }, 
        {
            "execution_count": null, 
            "cell_type": "code", 
            "metadata": {}, 
            "outputs": [], 
            "source": ""
        }, 
        {
            "execution_count": null, 
            "cell_type": "code", 
            "metadata": {}, 
            "outputs": [], 
            "source": ""
        }, 
        {
            "execution_count": null, 
            "cell_type": "code", 
            "metadata": {}, 
            "outputs": [], 
            "source": ""
        }, 
        {
            "execution_count": null, 
            "cell_type": "code", 
            "metadata": {}, 
            "outputs": [], 
            "source": ""
        }, 
        {
            "execution_count": null, 
            "cell_type": "code", 
            "metadata": {}, 
            "outputs": [], 
            "source": ""
        }, 
        {
            "execution_count": null, 
            "cell_type": "code", 
            "metadata": {}, 
            "outputs": [], 
            "source": ""
        }, 
        {
            "execution_count": null, 
            "cell_type": "code", 
            "metadata": {}, 
            "outputs": [], 
            "source": ""
        }, 
        {
            "execution_count": null, 
            "cell_type": "code", 
            "metadata": {}, 
            "outputs": [], 
            "source": ""
        }, 
        {
            "execution_count": null, 
            "cell_type": "code", 
            "metadata": {}, 
            "outputs": [], 
            "source": ""
        }, 
        {
            "execution_count": null, 
            "cell_type": "code", 
            "metadata": {}, 
            "outputs": [], 
            "source": ""
        }, 
        {
            "execution_count": null, 
            "cell_type": "code", 
            "metadata": {}, 
            "outputs": [], 
            "source": ""
        }
    ], 
    "metadata": {
        "kernelspec": {
            "display_name": "Python 3.6", 
            "name": "python3", 
            "language": "python"
        }, 
        "language_info": {
            "mimetype": "text/x-python", 
            "nbconvert_exporter": "python", 
            "version": "3.6.8", 
            "name": "python", 
            "file_extension": ".py", 
            "pygments_lexer": "ipython3", 
            "codemirror_mode": {
                "version": 3, 
                "name": "ipython"
            }
        }
    }, 
    "nbformat": 4
}